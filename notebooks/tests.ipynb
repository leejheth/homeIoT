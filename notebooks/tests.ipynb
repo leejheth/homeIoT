{
 "cells": [
  {
   "cell_type": "code",
   "execution_count": 9,
   "metadata": {},
   "outputs": [],
   "source": [
    "import mysql.connector \n",
    "import datetime"
   ]
  },
  {
   "cell_type": "code",
   "execution_count": 11,
   "metadata": {},
   "outputs": [
    {
     "name": "stdout",
     "output_type": "stream",
     "text": [
      "connected\n",
      "connection closed\n"
     ]
    }
   ],
   "source": [
    "with open('../conf/mysql.txt', 'r') as f:\n",
    "    sql_credentials_all = f.read()\n",
    " \n",
    "sql_credentials = sql_credentials_all.splitlines()\n",
    "\n",
    "try:\n",
    "    conn = mysql.connector.connect(\n",
    "        host=sql_credentials[0],\n",
    "        database=sql_credentials[1],\n",
    "        user=sql_credentials[2],\n",
    "        password=sql_credentials[3],\n",
    "        port=sql_credentials[4]\n",
    "    )\n",
    "\n",
    "    tablename = sql_credentials[5]\n",
    "    timestamp = datetime.datetime.now()\n",
    "\n",
    "    cur = conn.cursor()\n",
    "    query = f\"INSERT INTO {tablename} (CO2, temperature, humidity, time) VALUES (%s, %s, %s, %s)\"\n",
    "    cur.execute(query, (10,20,30,timestamp))\n",
    "    conn.commit()\n",
    "    cur.close()\n",
    "\n",
    "except mysql.connector.Error as e:\n",
    "    print(e)\n",
    "finally:\n",
    "    if conn is not None:\n",
    "        conn.close()"
   ]
  },
  {
   "cell_type": "code",
   "execution_count": 16,
   "metadata": {},
   "outputs": [
    {
     "ename": "SerialException",
     "evalue": "[Errno 2] could not open port COM1: [Errno 2] No such file or directory: 'COM1'",
     "output_type": "error",
     "traceback": [
      "\u001b[0;31m---------------------------------------------------------------------------\u001b[0m",
      "\u001b[0;31mFileNotFoundError\u001b[0m                         Traceback (most recent call last)",
      "File \u001b[0;32m~/miniconda3/envs/iot-env/lib/python3.9/site-packages/serial/serialposix.py:322\u001b[0m, in \u001b[0;36mSerial.open\u001b[0;34m(self)\u001b[0m\n\u001b[1;32m    321\u001b[0m \u001b[39mtry\u001b[39;00m:\n\u001b[0;32m--> 322\u001b[0m     \u001b[39mself\u001b[39m\u001b[39m.\u001b[39mfd \u001b[39m=\u001b[39m os\u001b[39m.\u001b[39;49mopen(\u001b[39mself\u001b[39;49m\u001b[39m.\u001b[39;49mportstr, os\u001b[39m.\u001b[39;49mO_RDWR \u001b[39m|\u001b[39;49m os\u001b[39m.\u001b[39;49mO_NOCTTY \u001b[39m|\u001b[39;49m os\u001b[39m.\u001b[39;49mO_NONBLOCK)\n\u001b[1;32m    323\u001b[0m \u001b[39mexcept\u001b[39;00m \u001b[39mOSError\u001b[39;00m \u001b[39mas\u001b[39;00m msg:\n",
      "\u001b[0;31mFileNotFoundError\u001b[0m: [Errno 2] No such file or directory: 'COM1'",
      "\nDuring handling of the above exception, another exception occurred:\n",
      "\u001b[0;31mSerialException\u001b[0m                           Traceback (most recent call last)",
      "Cell \u001b[0;32mIn[16], line 3\u001b[0m\n\u001b[1;32m      1\u001b[0m \u001b[39mfrom\u001b[39;00m \u001b[39msensirion_shdlc_driver\u001b[39;00m \u001b[39mimport\u001b[39;00m ShdlcSerialPort, ShdlcConnection, ShdlcDevice\n\u001b[0;32m----> 3\u001b[0m \u001b[39mwith\u001b[39;00m ShdlcSerialPort(port\u001b[39m=\u001b[39;49m\u001b[39m\"\u001b[39;49m\u001b[39mCOM1\u001b[39;49m\u001b[39m\"\u001b[39;49m, baudrate\u001b[39m=\u001b[39;49m\u001b[39m115200\u001b[39;49m) \u001b[39mas\u001b[39;00m port:\n\u001b[1;32m      4\u001b[0m     device \u001b[39m=\u001b[39m ShdlcDevice(ShdlcConnection(port), slave_address\u001b[39m=\u001b[39m\u001b[39m0\u001b[39m)\n\u001b[1;32m      5\u001b[0m     \u001b[39mprint\u001b[39m(\u001b[39m\"\u001b[39m\u001b[39mVersion: \u001b[39m\u001b[39m{}\u001b[39;00m\u001b[39m\"\u001b[39m\u001b[39m.\u001b[39mformat(device\u001b[39m.\u001b[39mget_version()))\n",
      "File \u001b[0;32m~/miniconda3/envs/iot-env/lib/python3.9/site-packages/sensirion_shdlc_driver/port.py:153\u001b[0m, in \u001b[0;36mShdlcSerialPort.__init__\u001b[0;34m(self, port, baudrate, additional_response_time, do_open)\u001b[0m\n\u001b[1;32m    151\u001b[0m \u001b[39mself\u001b[39m\u001b[39m.\u001b[39m_serial\u001b[39m.\u001b[39mport \u001b[39m=\u001b[39m port\n\u001b[1;32m    152\u001b[0m \u001b[39mif\u001b[39;00m do_open:\n\u001b[0;32m--> 153\u001b[0m     \u001b[39mself\u001b[39;49m\u001b[39m.\u001b[39;49mopen()\n",
      "File \u001b[0;32m~/miniconda3/envs/iot-env/lib/python3.9/site-packages/sensirion_shdlc_driver/port.py:239\u001b[0m, in \u001b[0;36mShdlcSerialPort.open\u001b[0;34m(self)\u001b[0m\n\u001b[1;32m    233\u001b[0m \u001b[39m\u001b[39m\u001b[39m\"\"\"\u001b[39;00m\n\u001b[1;32m    234\u001b[0m \u001b[39mOpen the serial port (only needs to be called if ``do_open`` in\u001b[39;00m\n\u001b[1;32m    235\u001b[0m \u001b[39m:py:meth:`~sensirion_shdlc_driver.port.ShdlcSerialPort.__init__`\u001b[39;00m\n\u001b[1;32m    236\u001b[0m \u001b[39mwas set to ``False``). Does nothing if the port is already opened.\u001b[39;00m\n\u001b[1;32m    237\u001b[0m \u001b[39m\"\"\"\u001b[39;00m\n\u001b[1;32m    238\u001b[0m \u001b[39mif\u001b[39;00m \u001b[39mself\u001b[39m\u001b[39m.\u001b[39m_serial\u001b[39m.\u001b[39mis_open \u001b[39mis\u001b[39;00m \u001b[39mFalse\u001b[39;00m:\n\u001b[0;32m--> 239\u001b[0m     \u001b[39mself\u001b[39;49m\u001b[39m.\u001b[39;49m_serial\u001b[39m.\u001b[39;49mopen()\n",
      "File \u001b[0;32m~/miniconda3/envs/iot-env/lib/python3.9/site-packages/serial/serialposix.py:325\u001b[0m, in \u001b[0;36mSerial.open\u001b[0;34m(self)\u001b[0m\n\u001b[1;32m    323\u001b[0m \u001b[39mexcept\u001b[39;00m \u001b[39mOSError\u001b[39;00m \u001b[39mas\u001b[39;00m msg:\n\u001b[1;32m    324\u001b[0m     \u001b[39mself\u001b[39m\u001b[39m.\u001b[39mfd \u001b[39m=\u001b[39m \u001b[39mNone\u001b[39;00m\n\u001b[0;32m--> 325\u001b[0m     \u001b[39mraise\u001b[39;00m SerialException(msg\u001b[39m.\u001b[39merrno, \u001b[39m\"\u001b[39m\u001b[39mcould not open port \u001b[39m\u001b[39m{}\u001b[39;00m\u001b[39m: \u001b[39m\u001b[39m{}\u001b[39;00m\u001b[39m\"\u001b[39m\u001b[39m.\u001b[39mformat(\u001b[39mself\u001b[39m\u001b[39m.\u001b[39m_port, msg))\n\u001b[1;32m    326\u001b[0m \u001b[39m#~ fcntl.fcntl(self.fd, fcntl.F_SETFL, 0)  # set blocking\u001b[39;00m\n\u001b[1;32m    328\u001b[0m \u001b[39mself\u001b[39m\u001b[39m.\u001b[39mpipe_abort_read_r, \u001b[39mself\u001b[39m\u001b[39m.\u001b[39mpipe_abort_read_w \u001b[39m=\u001b[39m \u001b[39mNone\u001b[39;00m, \u001b[39mNone\u001b[39;00m\n",
      "\u001b[0;31mSerialException\u001b[0m: [Errno 2] could not open port COM1: [Errno 2] No such file or directory: 'COM1'"
     ]
    }
   ],
   "source": [
    "from sensirion_shdlc_driver import ShdlcSerialPort, ShdlcConnection, ShdlcDevice\n",
    "\n",
    "with ShdlcSerialPort(port=\"COM1\", baudrate=115200) as port:\n",
    "    device = ShdlcDevice(ShdlcConnection(port), slave_address=0)\n",
    "    print(\"Version: {}\".format(device.get_version()))\n",
    "    print(\"Product Name: {}\".format(device.get_product_name()))\n",
    "    print(\"Article Code: {}\".format(device.get_article_code()))\n",
    "    print(\"Serial Number: {}\".format(device.get_serial_number()))"
   ]
  }
 ],
 "metadata": {
  "kernelspec": {
   "display_name": "iot-env",
   "language": "python",
   "name": "python3"
  },
  "language_info": {
   "codemirror_mode": {
    "name": "ipython",
    "version": 3
   },
   "file_extension": ".py",
   "mimetype": "text/x-python",
   "name": "python",
   "nbconvert_exporter": "python",
   "pygments_lexer": "ipython3",
   "version": "3.9.16"
  },
  "orig_nbformat": 4
 },
 "nbformat": 4,
 "nbformat_minor": 2
}
